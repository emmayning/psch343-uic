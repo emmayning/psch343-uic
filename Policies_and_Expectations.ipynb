{
 "cells": [
  {
   "cell_type": "markdown",
   "id": "e1027e7b-a403-453b-9b42-c594ee6d95bf",
   "metadata": {},
   "source": [
    "# **Email Communication**"
   ]
  },
  {
   "cell_type": "markdown",
   "id": "06fd9828-7d6a-4650-a86d-d00951a14395",
   "metadata": {},
   "source": [
    "* Please feel free to communicate with me via email if you need anything. Please address me as “Professor Ning” and include “PSCH 343” in the subject. Please know that I try my very best to be responsive via email, but sometimes, things may be busy, so I request that you give me at least 48 hours to respond. Please do not expect a response after hours (i.e., after 5 PM) or on the weekends.  \n",
    "\n",
    "* You are responsible for checking your UIC email and Blackboard regularly for messages, updates, and course announcements. These should be read in a timely manner, as they may contain important information about assignments, deadlines, or class changes."
   ]
  },
  {
   "cell_type": "markdown",
   "id": "3ab358a5-8407-458b-9973-fb7c19833787",
   "metadata": {},
   "source": [
    "# **Learning Environment**"
   ]
  },
  {
   "attachments": {},
   "cell_type": "markdown",
   "id": "87be6390-f7de-488b-890e-7e8c620bfa72",
   "metadata": {},
   "source": [
    "## What is expected of me?  \n",
    "* Be present (turn off cell phones and limit distractions during class) \n",
    "* Attend class regularly and be ready to engage\n",
    "* Be respectful of the learning space and community. For example, no side conversations or unnecessary disruptions \n",
    "* Ask for help when you get stuck \n",
    "* Be flexible when things don’t work  \n",
    "* Share helpful tips with your peers \n",
    "* Use preferred names and gender pronouns \n",
    "* Be willing to work together, especially during in-class activities and lab time\n",
    "* Approach discussion, challenges, and different perspectives as an opportunity to “think out loud” and learn something new\n",
    "* Be gracious and open to change when your ideas, arguments, or positions do not work or are proven wrong\n",
    "* Try not to make assumptions, have an open mind, seek to understand, and not judge\n"
   ]
  },
  {
   "cell_type": "markdown",
   "id": "974dec88-6f0d-4666-a7c2-8c95b944a1dd",
   "metadata": {},
   "source": [
    "## Our Inclusive Learning Environment \n",
    "In this course, we strive to create a safe, respectful, and inclusive learning environment where everyone feels valued and empowered to contribute. Regardless of age, disability, ethnicity, race, gender, gender identity, sexual orientation, socioeconomic status, geographic background, religion, political ideology, language, or culture, we expect all members of this class to contribute to a respectful, welcoming, and inclusive environment for every other member of our class.  "
   ]
  },
  {
   "cell_type": "markdown",
   "id": "594638e0-eec5-4cbe-9eec-651b8db9c31e",
   "metadata": {},
   "source": [
    "# **Academic Integrity**"
   ]
  },
  {
   "cell_type": "markdown",
   "id": "e5a5a4f6-29cb-419c-b0cf-a54a2d67e5be",
   "metadata": {},
   "source": [
    "In our class community, we all share the responsibility to uphold the highest standards of academic honesty and quality of academic work. This will allow us all to be accountable and learn and grow together. Inappropriate behaviors include cheating, unauthorized collaboration, fabrication or falsification, plagiarism, using unauthorized study aids, and facilitating academic misconduct. If you feel overwhelmed or tempted to engage in any of these behaviors, please reach out to me so we can develop a plan together.  \n",
    "\n",
    "I know that artificial intelligence (AI) is becoming an increasingly important part of our lives. You may use AI tools to support your learning—such as to clarify concepts, explore examples, or check your understanding—**you cannot use AI to generate answers, calculations, or interpretations for homework assignments, labs, or exams. Submitting AI-generated work as your own, including copying and pasting from AI, is a violation of academic integrity. Students who do so will receive a grade of 0 on the related work and may face disciplinary action determined by the Dean (see [Student Disciplinary Policy](https://dos.uic.edu/community-standards/academic-integrity-2/student-academic-resources/) for qualities of Academic Integrity).**\n"
   ]
  },
  {
   "cell_type": "markdown",
   "id": "e48aabec-c22e-40ab-b3a3-537eaf91b06b",
   "metadata": {},
   "source": [
    "# **Respect for Copyright**"
   ]
  },
  {
   "cell_type": "markdown",
   "id": "75ec0331-1b89-4663-ac0d-6898db0e19b8",
   "metadata": {},
   "source": [
    "Please protect the integrity of all course materials and content. By enrolling in this course, you agree to honor this request. Be mindful of the hard work and time that instructors put into creating course materials such as exam and quiz questions, worksheets, lecture videos, and reading materials. Please do not upload course materials not created by you onto third-party websites or share content with anyone who is not enrolled in our course. The instructional team is grateful for your cooperation in honoring this important request. "
   ]
  },
  {
   "cell_type": "markdown",
   "id": "22154f42-b4a1-475e-800a-3bdc123b76bb",
   "metadata": {},
   "source": [
    "# **Student Accommodations**"
   ]
  },
  {
   "cell_type": "markdown",
   "id": "9ce52596-ea4f-44d8-8707-8ff9516e8e93",
   "metadata": {},
   "source": [
    "Students in need of accommodations should reach out to the disability resource center (DRC). The DRC provides resources and support to allow equal access for all students, and can provide a letter of accommodation (LOA). LOAs describe the accommodations required going forward, do not expire, and to not disclose private information. If you think you might benefit from support related to a disability, you can contact the DRC by phone at (312) 413-2183, visit drc.uic.edu, e-mail drc@uic.edu, or stop by the office in SSB 1070. You will never be required to disclose private information related to your LOA to instructors or teaching assistants.   \n",
    "\n",
    "To receive accommodations, you will need to disclose the disability to the DRC, complete an interactive registration process with the DRC, and provide me with a Letter of Accommodation (LOA). **Please send your LOA to me within the first two weeks of class.** Upon receipt of the LOA, I will gladly work with you and the DRC to implement approved accommodations. "
   ]
  },
  {
   "cell_type": "markdown",
   "id": "f21b79c6-b4a3-43bf-8ddc-9ac1900e3209",
   "metadata": {},
   "source": [
    "# **Religious Accommodations**"
   ]
  },
  {
   "cell_type": "markdown",
   "id": "d320acef-8b5b-436d-9af2-893e9c56c74a",
   "metadata": {},
   "source": [
    "Following campus policy, if you wish to observe religious holidays, please notify me by the tenth day of the semester. If the religious holiday is observed on or before the tenth day of the semester, you must notify me at least five days before you will be absent. Please submit a [Student Request for Religious Accommodation Form](https://oae.uic.edu/wp-content/uploads/sites/32/2019/07/StudentReligiousAccomodationRequestForm.pdf) by email with the subject heading: “PSCH 343: Requesting Religious Accommodation.” \n"
   ]
  },
  {
   "cell_type": "markdown",
   "id": "2f9649a3-df3e-4756-9307-d89f0227091b",
   "metadata": {},
   "source": [
    "# **Other Resources**"
   ]
  },
  {
   "cell_type": "markdown",
   "id": "82557574-38c8-4f88-a6a0-a4b426614f4b",
   "metadata": {},
   "source": [
    "## Academic Center for Excellence (ACE)  \n",
    "The Academic Center for Excellence (ACE) can help if you feel you need more individualized instruction in reading and/or writing, study skills, time management, etc. Please call (312) 413-0031 or visit ace.uic.edu for more information.  "
   ]
  },
  {
   "cell_type": "markdown",
   "id": "eeed120a-d226-421a-b8bd-c05460bdcdbd",
   "metadata": {},
   "source": [
    "## Burnham Hall Tutoring Center  \n",
    "The Burnham Hall Tutoring Center offers all UIC students free 1-on-1 peer tutoring services for various courses, including PSCH 343. During the academic year, they offer tutoring every day of the week, starting in Week 3. Visit tutoring.uic.edu for descriptions of every tutoring unit on campus, a list of all courses for which you can access tutoring, and a link to schedule a tutoring appointment. "
   ]
  },
  {
   "cell_type": "markdown",
   "id": "20dc3c2c-2e5f-4207-9da0-f96e38d3bb16",
   "metadata": {},
   "source": [
    "## Counseling Center\n",
    "The UIC Counseling Center offers free, virtual drop-in hours on Wednesdays from 12-12:50 pm if you need, see link [here](https://counseling.uic.edu/virtual-drop-in-spaces/). They also provide free 25-minute single-session appointments, which can be scheduled for the same or next day [here](https://counseling.uic.edu/single-session-appointments/). Crisis services are available 24/7 at (312) 996-3490. Please remember that we all care about you—reach out if you need support; we will be here."
   ]
  },
  {
   "cell_type": "markdown",
   "id": "450a761f-4004-4287-b3b4-4a5428e14bf0",
   "metadata": {},
   "source": [
    "## Campus Advocacy Network \n",
    "The Campus Advocacy Network provides information and offers resources to all UIC students, faculty, and staff. Under the Title IX law, you have the right to an education that is free from any form of gender-based violence and discrimination. For more information or for confidential victim services and advocacy, contact UIC’s Campus Advocacy Network at 312-413-1025 or visit can.uic.edu."
   ]
  }
 ],
 "metadata": {
  "kernelspec": {
   "display_name": "Python 3 (ipykernel)",
   "language": "python",
   "name": "python3"
  },
  "language_info": {
   "codemirror_mode": {
    "name": "ipython",
    "version": 3
   },
   "file_extension": ".py",
   "mimetype": "text/x-python",
   "name": "python",
   "nbconvert_exporter": "python",
   "pygments_lexer": "ipython3",
   "version": "3.11.5"
  }
 },
 "nbformat": 4,
 "nbformat_minor": 5
}
