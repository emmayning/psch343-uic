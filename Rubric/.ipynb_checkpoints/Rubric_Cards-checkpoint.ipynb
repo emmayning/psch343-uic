{
 "cells": [
  {
   "cell_type": "markdown",
   "id": "53963bf1",
   "metadata": {},
   "source": [
    "# Rubric Cards\n",
    "This cell renders the rubric with the same five‑column layout/structure as your screenshot."
   ]
  },
  {
   "cell_type": "code",
   "execution_count": null,
   "id": "fdb9a775",
   "metadata": {},
   "outputs": [],
   "source": [
    "\n",
    "from IPython.display import HTML\n",
    "HTML('\\n\\n<style>\\n:root {\\n  --card-bg: #ffffff;\\n  --card-border: #e6e6e6;\\n  --title: #111827;\\n  --text: #1f2937;\\n  --muted: #dcdcdc;\\n}\\n.rubric-grid {\\n  display: grid;\\n  grid-template-columns: repeat(5, 1fr);\\n  gap: 1.25rem;\\n  padding: 1rem;\\n  background: #fff;\\n  border-radius: 0.5rem;\\n}\\n@media (max-width: 1200px) {\\n  .rubric-grid { grid-template-columns: repeat(2, 1fr); }\\n}\\n@media (max-width: 640px) {\\n  .rubric-grid { grid-template-columns: 1fr; }\\n}\\n.rubric-card {\\n  background: var(--card-bg);\\n  border: 1px solid var(--card-border);\\n  border-radius: 0.5rem;\\n  padding: 1.25rem;\\n  box-shadow: 0 1px 2px rgba(0,0,0,0.03);\\n  display: flex;\\n  flex-direction: column;\\n  height: 100%;\\n}\\n.rubric-card h3 {\\n  margin: 0 0 0.5rem 0;\\n  font-size: 1.05rem;\\n  line-height: 1.2;\\n  color: var(--title);\\n  font-weight: 700;\\n}\\n.rubric-card p {\\n  margin: 0 0 1rem 0;\\n  font-size: 0.95rem;\\n  line-height: 1.45;\\n  color: var(--text);\\n  flex: 1 1 auto;\\n}\\n.rubric-card .placeholder {\\n  background: linear-gradient(180deg, #efefef, #e9e9e9);\\n  height: 56px;\\n  border-radius: 0.35rem;\\n}\\n.rubric-caption {\\n  font-size: 0.85rem;\\n  color: #6b7280;\\n  margin: 0.5rem 0 0 0;\\n  text-align: right;\\n}\\n</style>\\n\\n<div class=\"rubric-grid\">\\n\\n    <div class=\"rubric-card\">\\n        <h3>5 points (Exemplary)</h3>\\n        <p>Complete, well-organized, and polished. All sections are thorough, accurate, and clearly connect statistical results to the research question. JASP output is complete, correct, and clearly labeled.</p>\\n        <div class=\"placeholder\"></div>\\n    </div>\\n\\n\\n    <div class=\"rubric-card\">\\n        <h3>4 points (Good)</h3>\\n        <p>All sections included and mostly accurate. Minor APA or interpretation errors present but meaning is clear. JASP output is mostly complete and correct, with minor omissions or labeling issues.</p>\\n        <div class=\"placeholder\"></div>\\n    </div>\\n\\n\\n    <div class=\"rubric-card\">\\n        <h3>3 points (Satisfactory)</h3>\\n        <p>Most sections present but with gaps in clarity, accuracy, or organization. APA and interpretation inconsistencies evident. JASP output included but incomplete or partially incorrect.</p>\\n        <div class=\"placeholder\"></div>\\n    </div>\\n\\n\\n    <div class=\"rubric-card\">\\n        <h3>2 points (Unsatisfactory)</h3>\\n        <p>Multiple missing sections or major interpretation errors. Poor organization or unclear links to the research question. JASP output incomplete, incorrect, or poorly labeled.</p>\\n        <div class=\"placeholder\"></div>\\n    </div>\\n\\n\\n    <div class=\"rubric-card\">\\n        <h3>0 points (Missing)</h3>\\n        <p>Lab report or JASP output missing, or submission too incomplete to evaluate.</p>\\n        <div class=\"placeholder\"></div>\\n    </div>\\n\\n</div>\\n')\n"
   ]
  },
  {
   "cell_type": "markdown",
   "id": "9337d131",
   "metadata": {},
   "source": [
    "\n",
    "**Notes**\n",
    "- The layout uses a responsive CSS grid: 5 columns on large screens, 2 on medium, 1 on small.\n",
    "- Edit the text by changing the `cards` list in the creation script or directly editing this cell's HTML.\n",
    "- The gray rectangle at the bottom of each card matches the visual placeholder in the screenshot.\n"
   ]
  }
 ],
 "metadata": {},
 "nbformat": 4,
 "nbformat_minor": 5
}
