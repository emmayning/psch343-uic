{
 "cells": [
  {
   "cell_type": "markdown",
   "id": "6b7e2a54-2d9d-4a6b-933c-95a82d4ae021",
   "metadata": {},
   "source": [
    "| Criterion | Exemplary (5 points) | Proficient (4 points) | Needs Improvement (3 points) | Unacceptable (1 point) |\n",
    "|-----------|---------------------|----------------------|------------------------------|------------------------|\n",
    "| **Completeness** | All problems are completed, with no omissions or skipped steps. | Most problems are completed; minor omissions may exist, including not showing all work. | Several problems are missing or incomplete. | Most or all problems are incomplete; the assignment overall is largely incomplete. |\n",
    "| **Accuracy** | All calculations, answers, and conclusions are correct or contain very minor errors. | Most calculations and answers are correct; there are multiple minor errors. | Multiple errors across multiple problems that indicate misunderstanding of concepts. | Significant errors that demonstrate a lack of understanding of multiple major concepts. |"
   ]
  }
 ],
 "metadata": {
  "kernelspec": {
   "display_name": "Python 3 (ipykernel)",
   "language": "python",
   "name": "python3"
  },
  "language_info": {
   "codemirror_mode": {
    "name": "ipython",
    "version": 3
   },
   "file_extension": ".py",
   "mimetype": "text/x-python",
   "name": "python",
   "nbconvert_exporter": "python",
   "pygments_lexer": "ipython3",
   "version": "3.11.5"
  }
 },
 "nbformat": 4,
 "nbformat_minor": 5
}
